{
 "cells": [
  {
   "cell_type": "code",
   "execution_count": null,
   "id": "8add00ab",
   "metadata": {},
   "outputs": [
    {
     "ename": "ModuleNotFoundError",
     "evalue": "No module named 'torch'",
     "output_type": "error",
     "traceback": [
      "\u001b[1;31m---------------------------------------------------------------------------\u001b[0m",
      "\u001b[1;31mModuleNotFoundError\u001b[0m                       Traceback (most recent call last)",
      "Cell \u001b[1;32mIn[1], line 2\u001b[0m\n\u001b[0;32m      1\u001b[0m \u001b[38;5;28;01mimport\u001b[39;00m \u001b[38;5;21;01mos\u001b[39;00m\n\u001b[1;32m----> 2\u001b[0m \u001b[38;5;28;01mimport\u001b[39;00m \u001b[38;5;21;01mtorch\u001b[39;00m\n\u001b[0;32m      3\u001b[0m \u001b[38;5;28;01mimport\u001b[39;00m \u001b[38;5;21;01mpandas\u001b[39;00m \u001b[38;5;28;01mas\u001b[39;00m \u001b[38;5;21;01mpd\u001b[39;00m\n\u001b[0;32m      4\u001b[0m \u001b[38;5;28;01mfrom\u001b[39;00m \u001b[38;5;21;01mdatasets\u001b[39;00m \u001b[38;5;28;01mimport\u001b[39;00m load_dataset, Dataset\n",
      "\u001b[1;31mModuleNotFoundError\u001b[0m: No module named 'torch'"
     ]
    }
   ],
   "source": [
    "#import libraries\n",
    "\n",
    "import os\n",
    "import torch\n",
    "import pandas as pd\n",
    "from datasets import load_dataset, Dataset\n",
    "from transformers import (\n",
    "    AutoTokenizer,\n",
    "    AutoModelForTokenClassification,\n",
    "    TrainingArguments,\n",
    "    Trainer,\n",
    "    DataCollatorForTokenClassification,\n",
    ")\n",
    "from seqeval.metrics import classification_report, f1_score\n"
   ]
  },
  {
   "cell_type": "code",
   "execution_count": null,
   "id": "86ab7002",
   "metadata": {},
   "outputs": [],
   "source": [
    "# load dataset \n",
    "def read_conll(filepath):\n",
    "    sentences, labels = [], []\n",
    "    with open(filepath, encoding='utf-8') as f:\n",
    "        tokens, tags = [], []\n",
    "        for line in f:\n",
    "            line = line.strip()\n",
    "            if not line:\n",
    "                if tokens:\n",
    "                    sentences.append(tokens)\n",
    "                    labels.append(tags)\n",
    "                    tokens, tags = [], []\n",
    "            else:\n",
    "                splits = line.split()\n",
    "                if len(splits) == 2:\n",
    "                    token, tag = splits\n",
    "                    tokens.append(token)\n",
    "                    tags.append(tag)\n",
    "    return pd.DataFrame({'tokens': sentences, 'ner_tags': labels})\n",
    "\n",
    "conll_path = \"/data/ner_labels.conll\"  \n",
    "df = read_conll(conll_path)\n",
    "df.head()\n"
   ]
  },
  {
   "cell_type": "code",
   "execution_count": 2,
   "id": "278a38c5",
   "metadata": {},
   "outputs": [
    {
     "ename": "NameError",
     "evalue": "name 'df' is not defined",
     "output_type": "error",
     "traceback": [
      "\u001b[1;31m---------------------------------------------------------------------------\u001b[0m",
      "\u001b[1;31mNameError\u001b[0m                                 Traceback (most recent call last)",
      "Cell \u001b[1;32mIn[2], line 1\u001b[0m\n\u001b[1;32m----> 1\u001b[0m unique_tags \u001b[38;5;241m=\u001b[39m \u001b[38;5;28msorted\u001b[39m({tag \u001b[38;5;28;01mfor\u001b[39;00m doc \u001b[38;5;129;01min\u001b[39;00m \u001b[43mdf\u001b[49m[\u001b[38;5;124m\"\u001b[39m\u001b[38;5;124mner_tags\u001b[39m\u001b[38;5;124m\"\u001b[39m] \u001b[38;5;28;01mfor\u001b[39;00m tag \u001b[38;5;129;01min\u001b[39;00m doc})\n\u001b[0;32m      2\u001b[0m tag2id \u001b[38;5;241m=\u001b[39m {tag: idx \u001b[38;5;28;01mfor\u001b[39;00m idx, tag \u001b[38;5;129;01min\u001b[39;00m \u001b[38;5;28menumerate\u001b[39m(unique_tags)}\n\u001b[0;32m      3\u001b[0m id2tag \u001b[38;5;241m=\u001b[39m {idx: tag \u001b[38;5;28;01mfor\u001b[39;00m tag, idx \u001b[38;5;129;01min\u001b[39;00m tag2id\u001b[38;5;241m.\u001b[39mitems()}\n",
      "\u001b[1;31mNameError\u001b[0m: name 'df' is not defined"
     ]
    }
   ],
   "source": [
    "unique_tags = sorted({tag for doc in df[\"ner_tags\"] for tag in doc})\n",
    "tag2id = {tag: idx for idx, tag in enumerate(unique_tags)}\n",
    "id2tag = {idx: tag for tag, idx in tag2id.items()}\n",
    "print(tag2id)\n"
   ]
  },
  {
   "cell_type": "code",
   "execution_count": null,
   "id": "f2e04bd7",
   "metadata": {},
   "outputs": [],
   "source": [
    "#Define Label Map\n",
    "model_checkpoint = \"Davlan/bert-base-multilingual-cased-ner-hrl\"  \n",
    "tokenizer = AutoTokenizer.from_pretrained(model_checkpoint)\n",
    "model = AutoModelForTokenClassification.from_pretrained(model_checkpoint, num_labels=len(tag2id), id2label=id2tag, label2id=tag2id)\n"
   ]
  },
  {
   "cell_type": "code",
   "execution_count": null,
   "id": "24ba3d02",
   "metadata": {},
   "outputs": [],
   "source": [
    "#Load Tokenizer and Model\n",
    "\n",
    "def tokenize_and_align_labels(example):\n",
    "    tokenized_inputs = tokenizer(example['tokens'], truncation=True, is_split_into_words=True)\n",
    "    labels = []\n",
    "    word_ids = tokenized_inputs.word_ids()\n",
    "\n",
    "    previous_word_idx = None\n",
    "    for word_idx in word_ids:\n",
    "        if word_idx is None:\n",
    "            labels.append(-100)\n",
    "        elif word_idx != previous_word_idx:\n",
    "            labels.append(tag2id[example['ner_tags'][word_idx]])\n",
    "        else:\n",
    "            labels.append(tag2id[example['ner_tags'][word_idx]])\n",
    "        previous_word_idx = word_idx\n",
    "\n",
    "    tokenized_inputs[\"labels\"] = labels\n",
    "    return tokenized_inputs\n",
    "\n",
    "dataset = Dataset.from_pandas(df)\n",
    "tokenized_dataset = dataset.map(tokenize_and_align_labels)\n"
   ]
  },
  {
   "cell_type": "code",
   "execution_count": null,
   "id": "7045fafc",
   "metadata": {},
   "outputs": [],
   "source": [
    "#Load Tokenizer and Model\n",
    "dataset = tokenized_dataset.train_test_split(test_size=0.2, seed=42)\n"
   ]
  },
  {
   "cell_type": "code",
   "execution_count": null,
   "id": "d5eec994",
   "metadata": {},
   "outputs": [],
   "source": [
    "#split the dataset\n",
    "\n",
    "dataset = tokenized_dataset.train_test_split(test_size=0.2, seed=42)\n"
   ]
  },
  {
   "cell_type": "code",
   "execution_count": null,
   "id": "462dbcd8",
   "metadata": {},
   "outputs": [],
   "source": [
    "# Define Training Arguments\n",
    "\n",
    "args = TrainingArguments(\n",
    "    output_dir=\"./ner_model\",\n",
    "    evaluation_strategy=\"epoch\",\n",
    "    save_strategy=\"epoch\",\n",
    "    learning_rate=2e-5,\n",
    "    per_device_train_batch_size=8,\n",
    "    per_device_eval_batch_size=8,\n",
    "    num_train_epochs=5,\n",
    "    weight_decay=0.01,\n",
    "    logging_dir=\"./logs\",\n",
    "    logging_steps=10,\n",
    "    save_total_limit=2,\n",
    ")\n"
   ]
  },
  {
   "cell_type": "code",
   "execution_count": null,
   "id": "84155aa9",
   "metadata": {},
   "outputs": [],
   "source": [
    "# Define trainer and train\n",
    "data_collator = DataCollatorForTokenClassification(tokenizer)\n",
    "\n",
    "trainer = Trainer(\n",
    "    model=model,\n",
    "    args=args,\n",
    "    train_dataset=dataset[\"train\"],\n",
    "    eval_dataset=dataset[\"test\"],\n",
    "    tokenizer=tokenizer,\n",
    "    data_collator=data_collator,\n",
    ")\n",
    "\n",
    "trainer.train()\n"
   ]
  },
  {
   "cell_type": "code",
   "execution_count": null,
   "id": "ee8b104b",
   "metadata": {},
   "outputs": [],
   "source": [
    "#Evaluate Model\n",
    "\n",
    "predictions, labels, _ = trainer.predict(dataset[\"test\"])\n",
    "preds = torch.argmax(torch.tensor(predictions), axis=-1)\n",
    "\n",
    "true_labels, true_preds = [], []\n",
    "\n",
    "for i in range(len(labels)):\n",
    "    true_label = [id2tag[l] for l, p in zip(labels[i], preds[i]) if l != -100]\n",
    "    true_pred = [id2tag[p] for l, p in zip(labels[i], preds[i]) if l != -100]\n",
    "    true_labels.append(true_label)\n",
    "    true_preds.append(true_pred)\n",
    "\n",
    "print(classification_report(true_labels, true_preds))\n",
    "print(\"F1 Score:\", f1_score(true_labels, true_preds))\n"
   ]
  },
  {
   "cell_type": "markdown",
   "id": "b7a650d2",
   "metadata": {},
   "source": [
    "model.save_pretrained(\"ner_model\")\n",
    "tokenizer.save_pretrained(\"ner_model\")\n"
   ]
  },
  {
   "cell_type": "code",
   "execution_count": null,
   "id": "f5c93f19",
   "metadata": {},
   "outputs": [],
   "source": []
  }
 ],
 "metadata": {
  "kernelspec": {
   "display_name": "Python 3",
   "language": "python",
   "name": "python3"
  },
  "language_info": {
   "codemirror_mode": {
    "name": "ipython",
    "version": 3
   },
   "file_extension": ".py",
   "mimetype": "text/x-python",
   "name": "python",
   "nbconvert_exporter": "python",
   "pygments_lexer": "ipython3",
   "version": "3.12.0"
  }
 },
 "nbformat": 4,
 "nbformat_minor": 5
}
